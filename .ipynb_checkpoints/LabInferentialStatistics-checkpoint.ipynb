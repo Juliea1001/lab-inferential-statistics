{
 "cells": [
  {
   "cell_type": "markdown",
   "id": "ec0d4e59",
   "metadata": {},
   "source": [
    "### Task\n",
    "1. It is assumed that the mean systolic blood pressure is `μ = 120 mm Hg`. In the Honolulu Heart Study, a sample of `n = 100` people had an average systolic blood pressure of 130.1 mm Hg with a standard deviation of 21.21 mm Hg. Is the group significantly different (with respect to systolic blood pressure!) from the regular population?\n",
    "\n",
    "   - Set up the hypothesis test.\n",
    "   - Write down all the steps followed for setting up the test.\n",
    "   - Calculate the test statistic by hand and also code it in Python. It should be 4.76190. We will take a look at how to make decisions based on this calculated value.\n",
    "\n"
   ]
  },
  {
   "cell_type": "markdown",
   "id": "678efcd4",
   "metadata": {},
   "source": [
    "#### Answer:\n",
    "\n",
    "Nullhypothesis:\n",
    "People with certain heart disease (like the ones regarding the Honolulu Heart Study) have the same mean  systolic blood pressure of \n",
    "120 mm Hg like it is the mean from the whole population. \n",
    "\n",
    "Alternative Hypothesis:\n",
    "Peolpe with those kind of heart disease have an higher average systolic pressure than the mean of 120 mm Hg.\n",
    "\n",
    "It is a one tailed t-test. Because the alternative Hypothesis states, that the diseased people mean would be higher than the whole population mean.\n",
    "\n",
    "degree of freedom df= 100-1 = 99\n",
    "\n",
    "For the one tailed t-test and df = 99: t.95=1.660\n",
    "\n",
    "To fail the Null Hypothesis with a p-value of 5% the statistic value must be higher than t.95."
   ]
  },
  {
   "cell_type": "code",
   "execution_count": 1,
   "id": "3270b95a",
   "metadata": {},
   "outputs": [
    {
     "data": {
      "text/plain": [
       "4.761904761904759"
      ]
     },
     "execution_count": 1,
     "metadata": {},
     "output_type": "execute_result"
    }
   ],
   "source": [
    "import math\n",
    "\n",
    "sample_mean = 130.1\n",
    "pop_mean = 120\n",
    "pop_std = 21.21\n",
    "n = 100\n",
    "\n",
    "statistic = (sample_mean - pop_mean)/(pop_std/math.sqrt(n))\n",
    "statistic"
   ]
  },
  {
   "cell_type": "markdown",
   "id": "57bb4199",
   "metadata": {},
   "source": [
    "the statistic value of 4.76 being > t.95=1.660 rejects the Null Hypothesis with a p-value of 5%.\n",
    "So it would be very suprisingly, if the diseased patients would have the same low mean systolic\n",
    "blood pressure.\n"
   ]
  },
  {
   "cell_type": "code",
   "execution_count": null,
   "id": "f8f9692d",
   "metadata": {},
   "outputs": [],
   "source": []
  }
 ],
 "metadata": {
  "kernelspec": {
   "display_name": "Python 3",
   "language": "python",
   "name": "python3"
  },
  "language_info": {
   "codemirror_mode": {
    "name": "ipython",
    "version": 3
   },
   "file_extension": ".py",
   "mimetype": "text/x-python",
   "name": "python",
   "nbconvert_exporter": "python",
   "pygments_lexer": "ipython3",
   "version": "3.8.8"
  }
 },
 "nbformat": 4,
 "nbformat_minor": 5
}
